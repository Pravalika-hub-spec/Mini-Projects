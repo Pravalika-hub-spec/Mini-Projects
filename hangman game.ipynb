{
 "cells": [
  {
   "cell_type": "code",
   "execution_count": 1,
   "id": "c500f4e8-c33e-46e8-959d-8a8e7703209a",
   "metadata": {},
   "outputs": [
    {
     "name": "stdout",
     "output_type": "stream",
     "text": [
      "Welcome to Hangman!\n",
      "\n",
      "Word: _______\n",
      "Guessed letters: \n"
     ]
    },
    {
     "name": "stdin",
     "output_type": "stream",
     "text": [
      "Guess a letter:  python\n"
     ]
    },
    {
     "name": "stdout",
     "output_type": "stream",
     "text": [
      "Please enter a single letter.\n",
      "\n",
      "Word: _______\n",
      "Guessed letters: \n"
     ]
    },
    {
     "name": "stdin",
     "output_type": "stream",
     "text": [
      "Guess a letter:  p\n"
     ]
    },
    {
     "name": "stdout",
     "output_type": "stream",
     "text": [
      "Sorry, 'p' is not in the word. You have 5 attempts left.\n",
      "\n",
      "Word: _______\n",
      "Guessed letters: p\n"
     ]
    },
    {
     "name": "stdin",
     "output_type": "stream",
     "text": [
      "Guess a letter:  h\n"
     ]
    },
    {
     "name": "stdout",
     "output_type": "stream",
     "text": [
      "Good job! 'h' is in the word.\n",
      "\n",
      "Word: h______\n",
      "Guessed letters: p, h\n"
     ]
    },
    {
     "name": "stdin",
     "output_type": "stream",
     "text": [
      "Guess a letter:  a\n"
     ]
    },
    {
     "name": "stdout",
     "output_type": "stream",
     "text": [
      "Good job! 'a' is in the word.\n",
      "\n",
      "Word: ha___a_\n",
      "Guessed letters: p, h, a\n"
     ]
    },
    {
     "name": "stdin",
     "output_type": "stream",
     "text": [
      "Guess a letter:  n\n"
     ]
    },
    {
     "name": "stdout",
     "output_type": "stream",
     "text": [
      "Good job! 'n' is in the word.\n",
      "\n",
      "Word: han__an\n",
      "Guessed letters: p, h, a, n\n"
     ]
    },
    {
     "name": "stdin",
     "output_type": "stream",
     "text": [
      "Guess a letter:  g\n"
     ]
    },
    {
     "name": "stdout",
     "output_type": "stream",
     "text": [
      "Good job! 'g' is in the word.\n",
      "\n",
      "Word: hang_an\n",
      "Guessed letters: p, h, a, n, g\n"
     ]
    },
    {
     "name": "stdin",
     "output_type": "stream",
     "text": [
      "Guess a letter:  m\n"
     ]
    },
    {
     "name": "stdout",
     "output_type": "stream",
     "text": [
      "Good job! 'm' is in the word.\n",
      "\n",
      "Congratulations! You've guessed the word: hangman\n"
     ]
    }
   ],
   "source": [
    "import random\n",
    "\n",
    "# List of possible words\n",
    "word_list = ['python', 'hangman', 'programming', 'algorithm', 'function']\n",
    "\n",
    "def choose_word():\n",
    "    return random.choice(word_list)\n",
    "\n",
    "def display_word(word, guessed_letters):\n",
    "    return ''.join([letter if letter in guessed_letters else '_' for letter in word])\n",
    "\n",
    "def hangman():\n",
    "    print(\"Welcome to Hangman!\")\n",
    "    word = choose_word()  # Pick a random word\n",
    "    guessed_letters = []  # Store guessed letters\n",
    "    attempts = 6  # Number of allowed wrong guesses\n",
    "    wrong_guesses = 0\n",
    "    \n",
    "    while wrong_guesses < attempts:\n",
    "        print(f\"\\nWord: {display_word(word, guessed_letters)}\")\n",
    "        print(f\"Guessed letters: {', '.join(guessed_letters)}\")\n",
    "        guess = input(\"Guess a letter: \").lower()\n",
    "\n",
    "        if len(guess) != 1 or not guess.isalpha():\n",
    "            print(\"Please enter a single letter.\")\n",
    "            continue\n",
    "\n",
    "        if guess in guessed_letters:\n",
    "            print(\"You already guessed that letter.\")\n",
    "            continue\n",
    "        \n",
    "        guessed_letters.append(guess)\n",
    "\n",
    "        if guess in word:\n",
    "            print(f\"Good job! '{guess}' is in the word.\")\n",
    "        else:\n",
    "            wrong_guesses += 1\n",
    "            print(f\"Sorry, '{guess}' is not in the word. You have {attempts - wrong_guesses} attempts left.\")\n",
    "\n",
    "        if all(letter in guessed_letters for letter in word):\n",
    "            print(f\"\\nCongratulations! You've guessed the word: {word}\")\n",
    "            break\n",
    "    else:\n",
    "        print(f\"\\nGame over! The word was: {word}\")\n",
    "\n",
    "if __name__ == \"__main__\":\n",
    "    hangman()\n"
   ]
  }
 ],
 "metadata": {
  "kernelspec": {
   "display_name": "Python 3 (ipykernel)",
   "language": "python",
   "name": "python3"
  },
  "language_info": {
   "codemirror_mode": {
    "name": "ipython",
    "version": 3
   },
   "file_extension": ".py",
   "mimetype": "text/x-python",
   "name": "python",
   "nbconvert_exporter": "python",
   "pygments_lexer": "ipython3",
   "version": "3.12.4"
  }
 },
 "nbformat": 4,
 "nbformat_minor": 5
}
